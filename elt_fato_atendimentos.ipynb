{
 "cells": [
  {
   "cell_type": "code",
   "execution_count": 1,
   "id": "56c5bcc9-5b8f-46cd-90fb-d66f1ce60a95",
   "metadata": {},
   "outputs": [],
   "source": [
    "import os\n",
    "import pandas as pd\n",
    "from sqlalchemy import create_engine, Column, Integer, String, exists\n",
    "from sqlalchemy.orm import sessionmaker, declarative_base\n",
    "import configparser"
   ]
  },
  {
   "cell_type": "code",
   "execution_count": 2,
   "id": "039c83f9-4760-4c91-a405-21827a6826e6",
   "metadata": {},
   "outputs": [
    {
     "data": {
      "text/plain": [
       "['C:/Users/User/Documents/GitHub/processoseletivo-teste/airflow-docker/dags/etl_scripts/config.ini']"
      ]
     },
     "execution_count": 2,
     "metadata": {},
     "output_type": "execute_result"
    }
   ],
   "source": [
    "# Leitura das configurações do banco de dados do arquivo .ini\n",
    "config = configparser.ConfigParser()\n",
    "config.read('C:/Users/User/Documents/GitHub/processoseletivo-teste/airflow-docker/dags/etl_scripts/config.ini')"
   ]
  },
  {
   "cell_type": "code",
   "execution_count": 3,
   "id": "83bfdd7b-9e79-48ed-948c-c5fb3c0533ac",
   "metadata": {},
   "outputs": [],
   "source": [
    "# Configuração do banco de dados do data warehouse\n",
    "user = config.get('Database', 'user')\n",
    "password = config.get('Database', 'password')\n",
    "host = config.get('Database', 'host')\n",
    "port = config.get('Database', 'port')\n",
    "database_dw = config.get('Database', 'database_dw')\n",
    "database_dl = config.get('Database', 'database_dl')"
   ]
  },
  {
   "cell_type": "code",
   "execution_count": 4,
   "id": "c3edf64b-ed85-4846-a49b-4d3002e8b44b",
   "metadata": {},
   "outputs": [],
   "source": [
    "# String de conexão para o banco de dados do data warehouse e data lake\n",
    "string_conexao_dw = f'postgresql+psycopg2://{user}:{password}@{host}:{port}/{database_dw}'\n",
    "string_conexao_dl = f'postgresql+psycopg2://{user}:{password}@{host}:{port}/{database_dl}'"
   ]
  },
  {
   "cell_type": "code",
   "execution_count": 5,
   "id": "61d9f381-3225-48f6-b4d8-36b493ee2266",
   "metadata": {},
   "outputs": [],
   "source": [
    "engine_dw = create_engine(string_conexao_dw)\n",
    "\n",
    "# Criação da engine do SQLAlchemy para o data lake\n",
    "engine_dl = create_engine(string_conexao_dl)\n",
    "\n",
    "# Criação da tabela da dimensão Departamento\n",
    "Base = declarative_base()"
   ]
  },
  {
   "cell_type": "code",
   "execution_count": 41,
   "id": "d4b0d82b-0edd-4074-8e4f-b4177ca956cf",
   "metadata": {},
   "outputs": [
    {
     "data": {
      "text/html": [
       "<div>\n",
       "<style scoped>\n",
       "    .dataframe tbody tr th:only-of-type {\n",
       "        vertical-align: middle;\n",
       "    }\n",
       "\n",
       "    .dataframe tbody tr th {\n",
       "        vertical-align: top;\n",
       "    }\n",
       "\n",
       "    .dataframe thead th {\n",
       "        text-align: right;\n",
       "    }\n",
       "</style>\n",
       "<table border=\"1\" class=\"dataframe\">\n",
       "  <thead>\n",
       "    <tr style=\"text-align: right;\">\n",
       "      <th></th>\n",
       "      <th>data_criacao</th>\n",
       "      <th>hora_criacao</th>\n",
       "    </tr>\n",
       "  </thead>\n",
       "  <tbody>\n",
       "    <tr>\n",
       "      <th>0</th>\n",
       "      <td>2023-01-31</td>\n",
       "      <td>21:59:00</td>\n",
       "    </tr>\n",
       "  </tbody>\n",
       "</table>\n",
       "</div>"
      ],
      "text/plain": [
       "  data_criacao hora_criacao\n",
       "0   2023-01-31     21:59:00"
      ]
     },
     "execution_count": 41,
     "metadata": {},
     "output_type": "execute_result"
    }
   ],
   "source": [
    "# Pegando o último registro\n",
    "query_ultimo_resgistro = '''SELECT data_criacao, hora_criacao\n",
    "FROM public.ft_atendimentos\n",
    "ORDER BY data_criacao DESC, hora_criacao DESC\n",
    "LIMIT 1;\n",
    ";\n",
    "'''\n",
    "df_ultimo_registro = pd.read_sql_query(query_ultimo_resgistro, engine_dw)\n",
    "df_ultimo_registro"
   ]
  },
  {
   "cell_type": "code",
   "execution_count": 42,
   "id": "f99fdbfa-de8a-46a7-abe5-9e681511ebf0",
   "metadata": {},
   "outputs": [
    {
     "data": {
      "text/plain": [
       "'2023-01-31'"
      ]
     },
     "execution_count": 42,
     "metadata": {},
     "output_type": "execute_result"
    }
   ],
   "source": [
    "data_ultimo_registro = df_ultimo_registro['data_criacao'][0].strftime('%Y-%m-%d')\n",
    "data_ultimo_registro"
   ]
  },
  {
   "cell_type": "code",
   "execution_count": 43,
   "id": "db8f71cf-c03b-4f2c-8c81-5d3da3709094",
   "metadata": {},
   "outputs": [
    {
     "data": {
      "text/plain": [
       "'21:59'"
      ]
     },
     "execution_count": 43,
     "metadata": {},
     "output_type": "execute_result"
    }
   ],
   "source": [
    "hora_ultimo_registro = df_ultimo_registro['hora_criacao'][0].strftime('%H:%M')\n",
    "hora_ultimo_registro"
   ]
  },
  {
   "cell_type": "code",
   "execution_count": 50,
   "id": "959b78aa-b17b-4af4-9f26-dc4abfd66f4a",
   "metadata": {},
   "outputs": [
    {
     "data": {
      "text/plain": [
       "\"\\nSELECT * FROM public.atendimentos WHERE TO_DATE(data_criacao, 'DD/MM/YYYY') >= CAST('2023-01-31' AS date)\\n    and  cast(hora_criacao as time) > cast('21:59' as time)\\n \""
      ]
     },
     "execution_count": 50,
     "metadata": {},
     "output_type": "execute_result"
    }
   ],
   "source": [
    "# Consultar dados de atendimentos da tabela no Data Lake\n",
    "query_atendimentos = f'''\n",
    "SELECT * FROM public.atendimentos WHERE TO_DATE(data_criacao, 'DD/MM/YYYY') >= CAST('{data_ultimo_registro}' AS date)\n",
    "    and  cast(hora_criacao as time) > cast('{hora_ultimo_registro}' as time)\n",
    " '''\n",
    "query_atendimentos\n",
    "#df_atendimentos = pd.read_sql_query(query_atendimentos, engine_dl)\n",
    "#df_atendimentos"
   ]
  },
  {
   "cell_type": "code",
   "execution_count": 51,
   "id": "c40791bd-a44c-4dd1-83a0-a0e41e53b265",
   "metadata": {},
   "outputs": [
    {
     "data": {
      "text/html": [
       "<div>\n",
       "<style scoped>\n",
       "    .dataframe tbody tr th:only-of-type {\n",
       "        vertical-align: middle;\n",
       "    }\n",
       "\n",
       "    .dataframe tbody tr th {\n",
       "        vertical-align: top;\n",
       "    }\n",
       "\n",
       "    .dataframe thead th {\n",
       "        text-align: right;\n",
       "    }\n",
       "</style>\n",
       "<table border=\"1\" class=\"dataframe\">\n",
       "  <thead>\n",
       "    <tr style=\"text-align: right;\">\n",
       "      <th></th>\n",
       "      <th>agente</th>\n",
       "      <th>associacao</th>\n",
       "      <th>data_criacao</th>\n",
       "      <th>data_transferencia</th>\n",
       "      <th>data_finalizacao</th>\n",
       "      <th>protocolo</th>\n",
       "      <th>telefone</th>\n",
       "      <th>tempo_de_atendimento_horas</th>\n",
       "      <th>tempo_de_atendimento_minutos</th>\n",
       "      <th>tempo_de_atendimento_segundos</th>\n",
       "      <th>...</th>\n",
       "      <th>tempo_em_fila_minutos</th>\n",
       "      <th>tempo_em_fila_segundos</th>\n",
       "      <th>data_ultima_msg_agente</th>\n",
       "      <th>data_ultima_msg_cliente</th>\n",
       "      <th>Departamento</th>\n",
       "      <th>hora_criacao</th>\n",
       "      <th>hora_finalizacao</th>\n",
       "      <th>hora_transferencia</th>\n",
       "      <th>hora_ultima_msg_agente</th>\n",
       "      <th>hora_ultima_msg_cliente</th>\n",
       "    </tr>\n",
       "  </thead>\n",
       "  <tbody>\n",
       "  </tbody>\n",
       "</table>\n",
       "<p>0 rows × 27 columns</p>\n",
       "</div>"
      ],
      "text/plain": [
       "Empty DataFrame\n",
       "Columns: [agente, associacao, data_criacao, data_transferencia, data_finalizacao, protocolo, telefone, tempo_de_atendimento_horas, tempo_de_atendimento_minutos, tempo_de_atendimento_segundos, tempo_de_atendimento_humano_horas, tempo_de_atendimento_humano_minutos, tempo_de_atendimento_humano_segundos, tempo_em_espera_horas, tempo_em_espera_minutos, tempo_em_espera_segundos, tempo_em_fila_horas, tempo_em_fila_minutos, tempo_em_fila_segundos, data_ultima_msg_agente, data_ultima_msg_cliente, Departamento, hora_criacao, hora_finalizacao, hora_transferencia, hora_ultima_msg_agente, hora_ultima_msg_cliente]\n",
       "Index: []\n",
       "\n",
       "[0 rows x 27 columns]"
      ]
     },
     "execution_count": 51,
     "metadata": {},
     "output_type": "execute_result"
    }
   ],
   "source": [
    "# Consultar dados de atendimentos da tabela no Data Lake\n",
    "df_atendimentos = pd.read_sql_query(query_atendimentos, engine_dl)\n",
    "df_atendimentos"
   ]
  },
  {
   "cell_type": "code",
   "execution_count": 52,
   "id": "63150db1-5d5e-4219-a805-2be71b8a5c8e",
   "metadata": {},
   "outputs": [
    {
     "data": {
      "text/plain": [
       "Series([], Name: ddd_cidade, dtype: object)"
      ]
     },
     "execution_count": 52,
     "metadata": {},
     "output_type": "execute_result"
    }
   ],
   "source": [
    "# Adicionar coluna de DDD à dimensão cidade\n",
    "df_atendimentos['ddd_cidade'] = df_atendimentos['telefone'].str[:2]\n",
    "df_atendimentos['ddd_cidade']"
   ]
  },
  {
   "cell_type": "code",
   "execution_count": null,
   "id": "a64fa6c4-13ff-4610-97bd-5ec649aa1ff7",
   "metadata": {},
   "outputs": [],
   "source": [
    "# Mapear DDD para cidade (usando a dimensão cidade)\n",
    "df_cidades = pd.read_sql_query('SELECT * FROM dim_cidade', engine_dw)\n",
    "df_cidades"
   ]
  },
  {
   "cell_type": "code",
   "execution_count": null,
   "id": "4e7ad89f-8c3c-41b9-8c22-d98c6badd7dd",
   "metadata": {},
   "outputs": [],
   "source": [
    "# Converter a coluna 'ddd_cidade' para o tipo int64\n",
    "df_atendimentos['ddd_cidade'] = df_atendimentos['ddd_cidade'].astype('int64')\n",
    "df_atendimentos_fato = df_atendimentos.merge(df_cidades, left_on='ddd_cidade', right_on='ddd', how='left')\n",
    "df_atendimentos_fato"
   ]
  },
  {
   "cell_type": "code",
   "execution_count": null,
   "id": "37578f42-f9ee-4850-9db9-1a9e5ec0c9a8",
   "metadata": {},
   "outputs": [],
   "source": [
    "# Mapear agente\n",
    "df_agentes = pd.read_sql_query('SELECT * FROM dim_agente', engine_dw)\n",
    "df_agentes"
   ]
  },
  {
   "cell_type": "code",
   "execution_count": null,
   "id": "c073b1ce-6572-4fce-a293-276f80b08a13",
   "metadata": {},
   "outputs": [],
   "source": [
    "df_atendimentos_fato['agente'] = df_atendimentos_fato['agente'].fillna('<chatbot>')\n",
    "df_atendimentos_fato = df_atendimentos_fato.merge(df_agentes, left_on='agente', right_on='nm_agente', how='left')\n",
    "df_atendimentos_fato"
   ]
  },
  {
   "cell_type": "code",
   "execution_count": null,
   "id": "9dca1e6d-42d9-4362-8755-09c235d9261c",
   "metadata": {},
   "outputs": [],
   "source": [
    "# Mapear data\n",
    "df_datas = pd.read_sql_query('SELECT sk_data, data FROM public.dim_calendario;', engine_dw)\n",
    "df_datas"
   ]
  },
  {
   "cell_type": "code",
   "execution_count": null,
   "id": "01c41195-fbcb-40e4-abf5-2151826fcf28",
   "metadata": {},
   "outputs": [],
   "source": [
    "df_data_criacao = df_datas.rename(columns={'sk_data':'sk_data_criacao','data':'data_criacao'})\n",
    "df_data_criacao"
   ]
  },
  {
   "cell_type": "code",
   "execution_count": null,
   "id": "eca68bbb-5103-4a33-b8de-e6367b19f42a",
   "metadata": {},
   "outputs": [],
   "source": [
    "df_data_finalizacao = df_datas.rename(columns={'sk_data':'sk_data_finalizacao','data':'data_finalizacao'})\n",
    "df_data_finalizacao"
   ]
  },
  {
   "cell_type": "code",
   "execution_count": null,
   "id": "df6662e5-9874-4380-b631-1c088112b5be",
   "metadata": {},
   "outputs": [],
   "source": [
    "df_data_transferencia = df_datas.rename(columns={'sk_data':'sk_data_transferencia','data':'data_transferencia'})\n",
    "df_data_transferencia"
   ]
  },
  {
   "cell_type": "code",
   "execution_count": null,
   "id": "5a1f5106-f7cc-4ae7-a2b4-618e0e770ef8",
   "metadata": {},
   "outputs": [],
   "source": [
    "df_data_ultima_msg_agente = df_datas.rename(columns={'sk_data':'sk_data_ultima_msg_agente','data':'data_ultima_msg_agente'})\n",
    "df_data_ultima_msg_agente"
   ]
  },
  {
   "cell_type": "code",
   "execution_count": null,
   "id": "2edb1969-07f4-44d3-8082-965f29ad957d",
   "metadata": {},
   "outputs": [],
   "source": [
    "df_data_ultima_msg_cliente = df_datas.rename(columns={'sk_data':'sk_data_ultima_msg_cliente','data':'data_ultima_msg_cliente'})\n",
    "df_data_ultima_msg_cliente"
   ]
  },
  {
   "cell_type": "code",
   "execution_count": null,
   "id": "435d72d2-f91c-46de-993a-80db5f1b98d9",
   "metadata": {},
   "outputs": [],
   "source": [
    "df_atendimentos_fato.data_transferencia = pd.to_datetime(df_atendimentos_fato.data_transferencia, format=\"%d/%m/%Y %H:%M:%S\").dt.date\n",
    "df_atendimentos_fato.data_finalizacao = pd.to_datetime(df_atendimentos_fato.data_finalizacao, format=\"%d/%m/%Y %H:%M:%S\").dt.date\n",
    "df_atendimentos_fato.data_criacao = pd.to_datetime(df_atendimentos_fato.data_criacao, format=\"%d/%m/%Y\").dt.date\n",
    "df_atendimentos_fato.data_ultima_msg_agente = pd.to_datetime(df_atendimentos_fato.data_ultima_msg_agente, format=\"%d/%m/%Y %H:%M:%S\").dt.date\n",
    "df_atendimentos_fato.data_ultima_msg_cliente = pd.to_datetime(df_atendimentos_fato.data_ultima_msg_cliente, format=\"%d/%m/%Y %H:%M:%S\").dt.date\n",
    "df_atendimentos_fato.hora_ultima_msg_agente  = pd.to_datetime(df_atendimentos_fato.hora_ultima_msg_agente, format=\"%H:%M\").dt.time              \n",
    "df_atendimentos_fato.hora_ultima_msg_cliente  = pd.to_datetime(df_atendimentos_fato.hora_ultima_msg_cliente, format=\"%H:%M\").dt.time               \n",
    "df_atendimentos_fato.hora_criacao = pd.to_datetime(df_atendimentos_fato.hora_criacao, format=\"%H:%M\").dt.time\n",
    "df_atendimentos_fato.hora_finalizacao = pd.to_datetime(df_atendimentos_fato.hora_finalizacao, format=\"%H:%M\").dt.time\n",
    "df_atendimentos_fato.hora_transferencia = pd.to_datetime(df_atendimentos_fato.hora_transferencia, format=\"%H:%M\").dt.time\n",
    "df_atendimentos_fato"
   ]
  },
  {
   "cell_type": "markdown",
   "id": "1faafd11-0d25-4f28-b15b-5d404e6c2247",
   "metadata": {},
   "source": [
    "data_ultima_msg_cliente = df_atendimentos_fato.merge(df_data_criacao, left_on='data_criacao', right_on='data_criacao', how='left')\n",
    "data_ultima_msg_cliente"
   ]
  },
  {
   "cell_type": "markdown",
   "id": "79bcd207-bf14-47b9-a528-73e6bcb91d72",
   "metadata": {},
   "source": [
    "df_atendimentos_fato = df_atendimentos_fato.merge(df_data_finalizacao, left_on='data_finalizacao', right_on='data_finalizacao', how='left')\n",
    "df_atendimentos_fato"
   ]
  },
  {
   "cell_type": "markdown",
   "id": "2226ec76-e223-4205-80ac-0e3ae59b422a",
   "metadata": {},
   "source": [
    "df_atendimentos_fato = df_atendimentos_fato.merge(df_data_transferencia, left_on='data_transferencia', right_on='data_transferencia', how='left')\n",
    "df_atendimentos_fato"
   ]
  },
  {
   "cell_type": "markdown",
   "id": "1d8e1eb2-096f-4266-837c-35882800a3a1",
   "metadata": {},
   "source": [
    "df_atendimentos_fato = df_atendimentos_fato.merge(df_data_ultima_msg_agente, left_on='data_ultima_msg_agente', right_on='data_ultima_msg_agente', how='left')\n",
    "df_atendimentos_fato"
   ]
  },
  {
   "cell_type": "markdown",
   "id": "fd9ef54a-a0d1-4a01-a1f6-66bcaf56f2c6",
   "metadata": {},
   "source": [
    "df_atendimentos_fato = df_atendimentos_fato.merge(df_data_data_ultima_msg_cliente, left_on='df_atendimentos_fato', right_on='df_atendimentos_fato', how='left')\n",
    "df_atendimentos_fato"
   ]
  },
  {
   "cell_type": "markdown",
   "id": "a89d6020-24ca-45a7-ba38-a765e74318ee",
   "metadata": {},
   "source": [
    "# Mapear tempo (horas)\n",
    "df_tempos = pd.read_sql_query('SELECT sk_hora_dia, hora_do_dia\tFROM dim_horas;', engine_dw)\n",
    "df_tempos"
   ]
  },
  {
   "cell_type": "markdown",
   "id": "5191299a-bd83-481e-a128-d9ff52e4f73e",
   "metadata": {},
   "source": [
    "df_tempo_criacao = df_tempos.rename(columns={'sk_hora_dia':'sk_hora_criacao','hora_do_dia':'hora_criacao'})\n",
    "df_tempo_criacao"
   ]
  },
  {
   "cell_type": "markdown",
   "id": "c400ce8e-c682-4b9a-8c7a-e6e779339254",
   "metadata": {},
   "source": [
    "df_tempo_finalizacao = df_tempos.rename(columns={'sk_hora_dia':'sk_hora_finalizacao','hora_do_dia':'hora_finalizacao'})\n",
    "df_tempo_finalizacao"
   ]
  },
  {
   "cell_type": "markdown",
   "id": "ab5d0990-ce0e-465e-be6e-cd74b923ba38",
   "metadata": {},
   "source": [
    "df_tempo_transferencia = df_tempos.rename(columns={'sk_hora_dia':'sk_hora_transferencia','hora_do_dia':'hora_transferencia'})\n",
    "df_tempo_transferencia"
   ]
  },
  {
   "cell_type": "markdown",
   "id": "ad689bfc-7212-4ad5-a20d-7567de7d90be",
   "metadata": {},
   "source": [
    "df_tempo_ultima_msg_agente = df_tempos.rename(columns={'sk_hora_dia':'sk_hora_ultima_msg_agente','hora_do_dia':'hora_ultima_msg_agente'})\n",
    "df_tempo_ultima_msg_agente"
   ]
  },
  {
   "cell_type": "markdown",
   "id": "3d02b59a-345f-45a8-98d1-2c34c8239c99",
   "metadata": {},
   "source": [
    "df_tempo_ultima_msg_cliente = df_tempos.rename(columns={'sk_hora_dia':'sk_hora_ultima_msg_cliente','hora_do_dia':'hora_ultima_msg_cliente'})\n",
    "df_tempo_ultima_msg_cliente"
   ]
  },
  {
   "cell_type": "markdown",
   "id": "83b3dffa-2bc7-486d-95ef-27a0c21cc9eb",
   "metadata": {},
   "source": [
    "df_atendimentos_fato = df_atendimentos_fato.merge(df_tempo_criacao, left_on='hora_criacao', right_on='hora_criacao', how='left')\n",
    "df_atendimentos_fato"
   ]
  },
  {
   "cell_type": "markdown",
   "id": "a17e50c8-1e86-4af9-af5e-ccc5ac87d69e",
   "metadata": {},
   "source": [
    "df_atendimentos_fato = df_atendimentos_fato.merge(df_tempo_finalizacao, left_on='hora_criacao', right_on='hora_finalizacao', how='left')\n",
    "df_atendimentos_fato"
   ]
  },
  {
   "cell_type": "markdown",
   "id": "1ae2e9a0-780c-48db-8d2b-52f023e59d3f",
   "metadata": {},
   "source": [
    "df_atendimentos_fato = df_atendimentos_fato.merge(df_tempo_transferencia, left_on='hora_criacao', right_on='hora_transferencia', how='left')\n",
    "df_atendimentos_fato"
   ]
  },
  {
   "cell_type": "markdown",
   "id": "c252dc6d-d60f-416f-a304-a54001c954fb",
   "metadata": {},
   "source": [
    "df_atendimentos_fato = df_atendimentos_fato.merge(df_tempo_ultima_msg_agente, left_on='hora_criacao', right_on='hora_ultima_msg_agente', how='left')\n",
    "df_atendimentos_fato"
   ]
  },
  {
   "cell_type": "markdown",
   "id": "6883a401-9c14-432a-a4e5-d597c4ab3c8e",
   "metadata": {},
   "source": [
    "df_atendimentos_fato = df_atendimentos_fato.merge(df_tempo_ultima_msg_cliente, left_on='hora_criacao', right_on='hora_ultima_msg_cliente', how='left')\n",
    "df_atendimentos_fato"
   ]
  },
  {
   "cell_type": "code",
   "execution_count": null,
   "id": "90b48462-4dd5-44b6-9681-b6acb4f58ab9",
   "metadata": {},
   "outputs": [],
   "source": [
    "# Mapear departamento\n",
    "df_departamentos = pd.read_sql_query('SELECT * FROM dim_departamento', engine_dw)\n",
    "df_atendimentos_fato = df_atendimentos_fato.merge(df_departamentos, left_on='Departamento', right_on='nm_departamento', how='left')\n"
   ]
  },
  {
   "cell_type": "code",
   "execution_count": null,
   "id": "25431426-36ba-4d92-b02d-5289bbccdca2",
   "metadata": {},
   "outputs": [],
   "source": [
    "df_atendimentos_fato.info()"
   ]
  },
  {
   "cell_type": "code",
   "execution_count": null,
   "id": "3f74a557-9fb2-4597-bea2-0c3c81f68557",
   "metadata": {},
   "outputs": [],
   "source": [
    "df_atendimentos_fato.info()"
   ]
  },
  {
   "cell_type": "code",
   "execution_count": null,
   "id": "a24fd950-5311-4307-9770-acf278abbfad",
   "metadata": {},
   "outputs": [],
   "source": [
    "tempo_de_atendimentos_horas = pd.to_timedelta(df_atendimentos_fato.tempo_de_atendimento_horas,'h')\n",
    "tempo_de_atendimento_minutos = pd.to_timedelta(df_atendimentos_fato.tempo_de_atendimento_minutos,'m')\n",
    "tempo_de_atendimento_segundos = pd.to_timedelta(df_atendimentos_fato.tempo_de_atendimento_segundos,'s')\n",
    "\n",
    "total_tempo_de_atendimentos = tempo_de_atendimentos_horas + tempo_de_atendimento_minutos + tempo_de_atendimento_segundos\n",
    "\n",
    "df_atendimentos_fato['tempo_de_atendimentos'] = total_tempo_de_atendimentos"
   ]
  },
  {
   "cell_type": "code",
   "execution_count": null,
   "id": "89e2eafe-409f-4c82-9f9e-afc16e2d981a",
   "metadata": {},
   "outputs": [],
   "source": [
    "tempo_de_atendimento_humano_horas = pd.to_timedelta(df_atendimentos_fato.tempo_de_atendimento_humano_horas,'h')\n",
    "tempo_de_atendimento_humano_minutos = pd.to_timedelta(df_atendimentos_fato.tempo_de_atendimento_humano_minutos,'m')\n",
    "tempo_de_atendimento_humano_segundos = pd.to_timedelta(df_atendimentos_fato.tempo_de_atendimento_humano_segundos,'s')\n",
    "\n",
    "tempo_de_atendimento_humano = tempo_de_atendimento_humano_horas + tempo_de_atendimento_humano_minutos + tempo_de_atendimento_humano_segundos\n",
    "\n",
    "df_atendimentos_fato['tempo_de_atendimento_humano'] = tempo_de_atendimento_humano"
   ]
  },
  {
   "cell_type": "code",
   "execution_count": null,
   "id": "4ebd551a-de0d-433f-99f5-c1fbd89e6fcf",
   "metadata": {},
   "outputs": [],
   "source": [
    "df_atendimentos_fato['tempo_atendimento_automatizado'] = total_tempo_de_atendimentos - tempo_de_atendimento_humano"
   ]
  },
  {
   "cell_type": "code",
   "execution_count": null,
   "id": "b62aade7-6e14-4c9a-9ca9-4ff5657fb218",
   "metadata": {},
   "outputs": [],
   "source": [
    "tempo_em_fila_horas = pd.to_timedelta(df_atendimentos_fato.tempo_em_fila_horas,'h')\n",
    "tempo_em_fila_minutos = pd.to_timedelta(df_atendimentos_fato.tempo_em_fila_minutos,'m')\n",
    "tempo_em_fila_segundos = pd.to_timedelta(df_atendimentos_fato.tempo_em_fila_segundos,'s')\n",
    "\n",
    "tempo_em_fila = tempo_em_fila_horas + tempo_em_fila_minutos + tempo_em_fila_segundos\n",
    "\n",
    "df_atendimentos_fato['tempo_em_fila'] = tempo_em_fila"
   ]
  },
  {
   "cell_type": "code",
   "execution_count": null,
   "id": "636730f2-04d7-4cac-af0d-1ab1a7f77831",
   "metadata": {},
   "outputs": [],
   "source": [
    "tempo_em_espera_horas = pd.to_timedelta(df_atendimentos_fato.tempo_em_espera_horas,'h')\n",
    "tempo_em_espera_minutos = pd.to_timedelta(df_atendimentos_fato.tempo_em_espera_minutos,'m')\n",
    "tempo_em_espera_segundos = pd.to_timedelta(df_atendimentos_fato.tempo_em_espera_segundos,'s')\n",
    "\n",
    "tempo_em_espera = tempo_em_espera_horas + tempo_em_espera_minutos + tempo_em_espera_segundos\n",
    "\n",
    "df_atendimentos_fato['tempo_de_espera'] = tempo_em_espera"
   ]
  },
  {
   "cell_type": "code",
   "execution_count": null,
   "id": "56f76ffe-862f-4098-b458-4fe1eb91faa3",
   "metadata": {},
   "outputs": [],
   "source": [
    "df_atendimentos_fato = df_atendimentos_fato.drop(columns=['nm_agente','agente','Departamento','nm_departamento',\n",
    "                                                          'nk_cidade','nm_cidade','uf','ddd','data_inicio','data_fim',\n",
    "                                                          'ddd_cidade','tempo_de_atendimento_horas','tempo_de_atendimento_minutos',\n",
    "                                                         'tempo_de_atendimento_segundos','tempo_de_atendimento_humano_horas',\n",
    "                                                         'tempo_de_atendimento_humano_minutos','tempo_de_atendimento_humano_segundos',\n",
    "                                                         'tempo_em_fila_horas','tempo_em_fila_minutos','tempo_em_fila_segundos',\n",
    "                                                          'tempo_em_espera_horas','tempo_em_espera_minutos','tempo_em_espera_segundos'])"
   ]
  },
  {
   "cell_type": "code",
   "execution_count": null,
   "id": "64096fbe-84b4-4f9f-92c7-af18644fb5bc",
   "metadata": {},
   "outputs": [],
   "source": [
    "orderm_columns = ['sk_agente','sk_departamento','sk_cidade','associacao',\n",
    "                                                            'protocolo','telefone','data_criacao','hora_criacao',\n",
    "                                                            'data_finalizacao','hora_finalizacao','data_transferencia',\n",
    "                                                            'hora_transferencia','data_ultima_msg_agente',\n",
    "                                                            'hora_ultima_msg_agente','data_ultima_msg_cliente',\n",
    "                                                            'hora_ultima_msg_cliente','tempo_de_atendimentos',\n",
    "                                                            'tempo_de_atendimento_humano','tempo_atendimento_automatizado',\n",
    "                                                            'tempo_em_fila','tempo_de_espera']\n",
    "df_atendimentos_fato = df_atendimentos_fato.reindex(columns=orderm_columns)\n",
    "                                                            \n",
    "df_atendimentos_fato.info()"
   ]
  },
  {
   "cell_type": "code",
   "execution_count": null,
   "id": "c41bd10d-2435-446a-9abe-c23d7f07396f",
   "metadata": {},
   "outputs": [],
   "source": [
    "# Inserir dados na fato atendimentos no banco de dados\n",
    "df_atendimentos_fato.to_sql('ft_atendimentos', engine_dw, if_exists='append', index=False)\n"
   ]
  }
 ],
 "metadata": {
  "kernelspec": {
   "display_name": "Python 3 (ipykernel)",
   "language": "python",
   "name": "python3"
  },
  "language_info": {
   "codemirror_mode": {
    "name": "ipython",
    "version": 3
   },
   "file_extension": ".py",
   "mimetype": "text/x-python",
   "name": "python",
   "nbconvert_exporter": "python",
   "pygments_lexer": "ipython3",
   "version": "3.11.5"
  }
 },
 "nbformat": 4,
 "nbformat_minor": 5
}
